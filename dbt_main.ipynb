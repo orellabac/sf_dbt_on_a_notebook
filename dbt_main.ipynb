{
 "metadata": {
  "language_info": {
   "name": "python"
  }
 },
 "nbformat_minor": 2,
 "nbformat": 4,
 "cells": [
  {
   "cell_type": "code",
   "execution_count": null,
   "metadata": {
    "name": "cell1",
    "language": "python",
    "collapsed": false
   },
   "outputs": [],
   "source": "import wheel_loader\nwheel_loader.add_wheels()",
   "id": "ce110000-1111-2222-3333-ffffff000000"
  },
  {
   "cell_type": "code",
   "id": "cad0851f-7584-4424-9e79-ce790847e303",
   "metadata": {
    "language": "python",
    "name": "cell2",
    "collapsed": false
   },
   "outputs": [],
   "source": "from snowflake.snowpark import Session\nfrom snowflake.connector.cursor import SnowflakeCursor\nfrom snowflake.connector.converter import SnowflakeConverter\n\nfrom dbt.adapters.snowflake.connections import SnowflakeConnectionManager\n\n# we need to setup paramstyle to pyformat\nimport snowflake.connector\nsnowflake.connector.paramstyle = \"pyformat\"\n\nsession = Session.builder.getOrCreate()\n\n# disable colorama output notebooks output does not support it\nimport os\nos.environ['CLICOLOR'] = '0'\n\n\nfrom snowflake.snowpark._internal.utils import is_in_stored_procedure\n\n# we mock a few methods\ndef _process_params_dict(self, params, cursor):\n    try:\n        res = {k: self._process_single_param(v) for k, v in params.items()}\n        return res\n    except Exception as e:\n        raise Exception(\"Failed processing pyformat-parameters: {e}\")\ndef _process_params_pyformat(self,params, cursor):\n        if params is None:\n            return {}\n        if isinstance(params, dict):\n            return self._process_params_dict(params,cursor)\n        if not isinstance(params, (tuple, list)):\n            params = [params,]\n        try:\n            res = map(self._process_single_param, params)\n            ret = tuple(res)\n            return ret\n        except Exception as e:\n            raise Exception(f\"Failed processing pyformat-parameters; {self}{params} {e}\")\ndef _process_single_param(self, param):\n        to_snowflake = self.converter.to_snowflake\n        escape = self.converter.escape\n        _quote = self.converter.quote\n        return _quote(escape(to_snowflake(param)))\n\ndef patch_for_dbt(session: Session):\n    import snowflake.connector.connection\n    if is_in_stored_procedure():\n        snowflake.connector.connection.SnowflakeConnection = snowflake.connector.connection.StoredProcConnection\n        setattr(snowflake.connector.connection.StoredProcConnection,\"_process_params_pyformat\",_process_params_pyformat)\n        setattr(snowflake.connector.connection.StoredProcConnection,\"_process_params_dict\",_process_params_dict)\n        setattr(snowflake.connector.connection.StoredProcConnection,\"_process_single_param\",_process_single_param)\n    existing_snowflake_connection = session._conn._conn\n    setattr(existing_snowflake_connection,\"_interpolate_empty_sequences\",False)\n    existing_snowflake_connection._paramstyle = \"pyformat\"\n    # patching the DBT ConnectionManager to just the current connection\n    def new_open_method(cls, connection):\n        handle=Session.builder.getOrCreate().connection\n        connection.handle = handle\n        return connection\n    SnowflakeConnectionManager.open = new_open_method\n\npatch_for_dbt(session)\n\nimport warnings\nwarnings.filterwarnings(\"ignore\")\n",
   "execution_count": null
  },
  {
   "cell_type": "code",
   "id": "f97dd107-6abf-406c-b4d3-7917eaf80468",
   "metadata": {
    "language": "sql",
    "name": "cell3",
    "collapsed": false
   },
   "outputs": [],
   "source": "create database if not exists  jaffle_shop;\ncreate schema if not exists  jaffle_shop.mrojas;",
   "execution_count": null
  },
  {
   "cell_type": "code",
   "id": "3055c550-ffb7-4be9-abb5-239622b52796",
   "metadata": {
    "language": "python",
    "name": "cell4",
    "collapsed": false
   },
   "outputs": [],
   "source": "session.use_database(\"jaffle_shop\")\nsession.use_schema(\"mrojas\")\nsession.use_warehouse(\"xsmall_wh\")\n",
   "execution_count": null
  },
  {
   "cell_type": "code",
   "id": "8196d801-4277-4130-ac44-726656382cd2",
   "metadata": {
    "language": "python",
    "name": "cell5",
    "collapsed": false
   },
   "outputs": [],
   "source": "import os\nos.makedirs(os.path.expanduser(\"~/.dbt\"),exist_ok=True)\nwith open(os.path.join(os.path.expanduser(\"~/.dbt\"),\"profiles.yml\"),\"w\") as f:\n    f.write(f\"\"\"\njaffle_shop:\n outputs:\n   dev:\n     account: {session.get_current_account()}\n     database: {session.get_current_database()}\n     password: xxx\n     role: ACCOUNTADMIN\n     schema: {session.get_current_schema()}\n     threads: 1\n     type: snowflake\n     user: user\n     warehouse: {session.get_current_warehouse()}\n target: dev\n\n\"\"\")",
   "execution_count": null
  },
  {
   "cell_type": "code",
   "id": "860f5575-d30f-4c82-bdff-1da0e732dbc7",
   "metadata": {
    "language": "python",
    "name": "cell6",
    "collapsed": false,
    "codeCollapsed": false
   },
   "outputs": [],
   "source": "from dbt.cli.main import dbtRunner, dbtRunnerResult\nimport colorama\ncolorama.init()\n# initialize\ndbt = dbtRunner()\n# create CLI args as a list of strings\ncli_args = [\"seed\"]\n# run the command\nres: dbtRunnerResult = dbt.invoke(cli_args)\n# inspect the results\nfor r in res.result:\n    print(f\"{r.node.name}: {r.status}\")",
   "execution_count": null
  },
  {
   "cell_type": "code",
   "id": "af33c13c-0c44-4b2b-a12f-d97451e345bd",
   "metadata": {
    "language": "python",
    "name": "cell7",
    "collapsed": false
   },
   "outputs": [],
   "source": "from dbt.cli.main import dbtRunner, dbtRunnerResult\nimport colorama\ncolorama.init()\n# initialize\ndbt = dbtRunner()\n# create CLI args as a list of strings\ncli_args = [\"run\"]\n# run the command\nres: dbtRunnerResult = dbt.invoke(cli_args)\n# inspect the results\nfor r in res.result:\n    print(f\"{r.node.name}: {r.status}\")",
   "execution_count": null
  },
  {
   "cell_type": "code",
   "id": "2a67bd9f-a929-4e8b-b8e9-bfab420c8683",
   "metadata": {
    "language": "sql",
    "name": "cell8"
   },
   "outputs": [],
   "source": "select * from customers",
   "execution_count": null
  }
 ]
}